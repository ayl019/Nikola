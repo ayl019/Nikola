{
 "cells": [
  {
   "cell_type": "markdown",
   "metadata": {},
   "source": [
    "# Introduction\n",
    "The Los Angeles Police Department(LAPD) is responsible for the protection and safeguard of the city of Los Angeles. While the LAPD has been attempting to reduce crime each year, it is a difficult goal to achieve due to growing population and only fewer than 10000 active officers in the department. However, an analysis of the LAPD historical crime record can provide a clear view of crime trends and allow the LAPD to allocate resources accordingly.\n",
    "\n",
    "In this article we will mainly analyze the arrest incidencies performed by LAPD in 2015 with some supplemental datasets. Jupyter notebook will be used for this analysis\n"
   ]
  },
  {
   "cell_type": "markdown",
   "metadata": {},
   "source": [
    "# The Datasets\n",
    "All datasets used in this analysis are pertain to Los Angeles. Here are the links to datasets that will be used:\n",
    "\n",
    "1. [Arrests by LAPD](https://data.lacity.org/A-Safe-City/Open-Data-ARR-2016/m58u-93eu/data#column-menu) - The main dataset\n",
    "\n",
    "2. [Crime reports received by LAPD](https://data.lacity.org/A-Safe-City/LAPD-Crime-and-Collision-Raw-Data-for-2016/ftdn-8ftx/data)\n",
    "\n",
    "3. [Calls for service received by LAPD](https://data.lacity.org/A-Safe-City/Open-Data-Cfs-2016/jewa-493v/data)\n",
    "\n",
    "There will be another supplemental dataset in the other half of the article"
   ]
  },
  {
   "cell_type": "markdown",
   "metadata": {},
   "source": [
    "# Background Information\n",
    "* The city of Los Angeles is divided into 21 areas by LAPD\n",
    "* Each area consists of numerous reporting districts(RD)\n",
    "* There are 1135 reporting districts, a unique number ranging from 101 to 2199 is assigned to each reporting district"
   ]
  },
  {
   "cell_type": "markdown",
   "metadata": {},
   "source": [
    "# Examine the datasets\n",
    "After placing all datasets and change the working directory to a folder called LAPD, we can begin loading necessary packages and the datasets with Jupyter notebook. The for loop reads all files in the working directory that ends with .csv, then converts the csv into a dataframe and puts the dataframe into a Python dictionary named data."
   ]
  },
  {
   "cell_type": "code",
   "execution_count": 52,
   "metadata": {
    "collapsed": false
   },
   "outputs": [],
   "source": [
    "%matplotlib inline\n",
    "import pandas as pd\n",
    "import numpy as np\n",
    "import glob, os\n",
    "import matplotlib.pyplot as plt\n",
    "import plotly as py\n",
    "from plotly.tools import FigureFactory as FF \n",
    "\n",
    "py.tools.set_credentials_file(username='ayl019', api_key='tojGGHbVdFnhLso1P6vn')\n",
    "\n",
    "\n",
    "os.chdir('C:\\\\Users\\\\Andy\\\\Desktop\\\\LAPD')\n",
    "data = {}\n",
    "\n",
    "for file in glob.glob(\"*.csv\"):\n",
    "    df = pd.read_csv(file)\n",
    "    data[file.replace(\".csv\", \"\")] = df\n",
    "    \n",
    "Arrest = data['LAPD_Arrest']\n",
    "Call = data['LAPD_Call']\n",
    "Crime = data['LAPD_Crime']    "
   ]
  },
  {
   "cell_type": "markdown",
   "metadata": {},
   "source": [
    "Now we can use the head method to take a look at the first few lines of each dataset"
   ]
  },
  {
   "cell_type": "code",
   "execution_count": 2,
   "metadata": {
    "collapsed": false
   },
   "outputs": [
    {
     "data": {
      "text/html": [
       "<div>\n",
       "<table border=\"1\" class=\"dataframe\">\n",
       "  <thead>\n",
       "    <tr style=\"text-align: right;\">\n",
       "      <th></th>\n",
       "      <th>ARST DATE</th>\n",
       "      <th>TIME</th>\n",
       "      <th>RPT_ID</th>\n",
       "      <th>AREA</th>\n",
       "      <th>AREA_DESC</th>\n",
       "      <th>RD</th>\n",
       "      <th>AGE</th>\n",
       "      <th>SEX_CD</th>\n",
       "      <th>DESCENT_CD</th>\n",
       "      <th>CHRG_GRP_CD</th>\n",
       "      <th>GRP_DESC</th>\n",
       "      <th>ARST_TYP_CD</th>\n",
       "      <th>CHARGE</th>\n",
       "      <th>CHRG_DESC</th>\n",
       "      <th>LOCATION</th>\n",
       "      <th>CRSST</th>\n",
       "      <th>Location 1</th>\n",
       "    </tr>\n",
       "  </thead>\n",
       "  <tbody>\n",
       "    <tr>\n",
       "      <th>0</th>\n",
       "      <td>4/15/2015 0:00</td>\n",
       "      <td>2015.0</td>\n",
       "      <td>4299618</td>\n",
       "      <td>1</td>\n",
       "      <td>Central</td>\n",
       "      <td>105</td>\n",
       "      <td>0</td>\n",
       "      <td>F</td>\n",
       "      <td>H</td>\n",
       "      <td>NaN</td>\n",
       "      <td>NaN</td>\n",
       "      <td>D</td>\n",
       "      <td>300(B)WI</td>\n",
       "      <td>NaN</td>\n",
       "      <td>BISHOPS                      RD</td>\n",
       "      <td>PASADENA                     FY</td>\n",
       "      <td>(0.0000, 0.0000)</td>\n",
       "    </tr>\n",
       "    <tr>\n",
       "      <th>1</th>\n",
       "      <td>2/6/2015 0:00</td>\n",
       "      <td>910.0</td>\n",
       "      <td>4232636</td>\n",
       "      <td>1</td>\n",
       "      <td>Central</td>\n",
       "      <td>123</td>\n",
       "      <td>0</td>\n",
       "      <td>F</td>\n",
       "      <td>H</td>\n",
       "      <td>26.0</td>\n",
       "      <td>Non-Criminal Detention</td>\n",
       "      <td>D</td>\n",
       "      <td>300(J)WI</td>\n",
       "      <td>PROT CUST/ENDANGER SIBLINGS/UNFIT HOME</td>\n",
       "      <td>900 S  DUNCAN                       ST</td>\n",
       "      <td>NaN</td>\n",
       "      <td>(34.1861, -118.5435)</td>\n",
       "    </tr>\n",
       "    <tr>\n",
       "      <th>2</th>\n",
       "      <td>8/20/2015 0:00</td>\n",
       "      <td>1600.0</td>\n",
       "      <td>4420207</td>\n",
       "      <td>1</td>\n",
       "      <td>Central</td>\n",
       "      <td>156</td>\n",
       "      <td>0</td>\n",
       "      <td>M</td>\n",
       "      <td>B</td>\n",
       "      <td>NaN</td>\n",
       "      <td>NaN</td>\n",
       "      <td>D</td>\n",
       "      <td>300(B)WIC</td>\n",
       "      <td>NaN</td>\n",
       "      <td>8TH                          ST</td>\n",
       "      <td>TOWNE                        AV</td>\n",
       "      <td>(34.0371, -118.2475)</td>\n",
       "    </tr>\n",
       "    <tr>\n",
       "      <th>3</th>\n",
       "      <td>8/14/2015 0:00</td>\n",
       "      <td>1030.0</td>\n",
       "      <td>4415119</td>\n",
       "      <td>1</td>\n",
       "      <td>Central</td>\n",
       "      <td>158</td>\n",
       "      <td>0</td>\n",
       "      <td>M</td>\n",
       "      <td>C</td>\n",
       "      <td>26.0</td>\n",
       "      <td>Non-Criminal Detention</td>\n",
       "      <td>D</td>\n",
       "      <td>300(J)WI</td>\n",
       "      <td>PROT CUST/ENDANGER SIBLINGS/UNFIT HOME</td>\n",
       "      <td>6TH</td>\n",
       "      <td>SAN PEDRO</td>\n",
       "      <td>(34.0423, -118.2452)</td>\n",
       "    </tr>\n",
       "    <tr>\n",
       "      <th>4</th>\n",
       "      <td>3/20/2015 0:00</td>\n",
       "      <td>1340.0</td>\n",
       "      <td>4273819</td>\n",
       "      <td>2</td>\n",
       "      <td>Rampart</td>\n",
       "      <td>231</td>\n",
       "      <td>0</td>\n",
       "      <td>F</td>\n",
       "      <td>B</td>\n",
       "      <td>NaN</td>\n",
       "      <td>NaN</td>\n",
       "      <td>O</td>\n",
       "      <td>300(B)WIC</td>\n",
       "      <td>NaN</td>\n",
       "      <td>100 N  OCCIDENTAL                   BL</td>\n",
       "      <td>NaN</td>\n",
       "      <td>(34.0707, -118.2795)</td>\n",
       "    </tr>\n",
       "  </tbody>\n",
       "</table>\n",
       "</div>"
      ],
      "text/plain": [
       "        ARST DATE    TIME   RPT_ID  AREA AREA_DESC   RD  AGE SEX_CD  \\\n",
       "0  4/15/2015 0:00  2015.0  4299618     1   Central  105    0      F   \n",
       "1   2/6/2015 0:00   910.0  4232636     1   Central  123    0      F   \n",
       "2  8/20/2015 0:00  1600.0  4420207     1   Central  156    0      M   \n",
       "3  8/14/2015 0:00  1030.0  4415119     1   Central  158    0      M   \n",
       "4  3/20/2015 0:00  1340.0  4273819     2   Rampart  231    0      F   \n",
       "\n",
       "  DESCENT_CD  CHRG_GRP_CD                GRP_DESC ARST_TYP_CD     CHARGE  \\\n",
       "0          H          NaN                     NaN           D   300(B)WI   \n",
       "1          H         26.0  Non-Criminal Detention           D   300(J)WI   \n",
       "2          B          NaN                     NaN           D  300(B)WIC   \n",
       "3          C         26.0  Non-Criminal Detention           D   300(J)WI   \n",
       "4          B          NaN                     NaN           O  300(B)WIC   \n",
       "\n",
       "                                CHRG_DESC  \\\n",
       "0                                     NaN   \n",
       "1  PROT CUST/ENDANGER SIBLINGS/UNFIT HOME   \n",
       "2                                     NaN   \n",
       "3  PROT CUST/ENDANGER SIBLINGS/UNFIT HOME   \n",
       "4                                     NaN   \n",
       "\n",
       "                                   LOCATION  \\\n",
       "0           BISHOPS                      RD   \n",
       "1    900 S  DUNCAN                       ST   \n",
       "2           8TH                          ST   \n",
       "3                                       6TH   \n",
       "4    100 N  OCCIDENTAL                   BL   \n",
       "\n",
       "                                CRSST            Location 1  \n",
       "0     PASADENA                     FY      (0.0000, 0.0000)  \n",
       "1                                 NaN  (34.1861, -118.5435)  \n",
       "2     TOWNE                        AV  (34.0371, -118.2475)  \n",
       "3                           SAN PEDRO  (34.0423, -118.2452)  \n",
       "4                                 NaN  (34.0707, -118.2795)  "
      ]
     },
     "execution_count": 2,
     "metadata": {},
     "output_type": "execute_result"
    }
   ],
   "source": [
    "Arrest.head()"
   ]
  },
  {
   "cell_type": "code",
   "execution_count": 3,
   "metadata": {
    "collapsed": false
   },
   "outputs": [
    {
     "data": {
      "text/html": [
       "<div>\n",
       "<table border=\"1\" class=\"dataframe\">\n",
       "  <thead>\n",
       "    <tr style=\"text-align: right;\">\n",
       "      <th></th>\n",
       "      <th>Date Rptd</th>\n",
       "      <th>DR. NO</th>\n",
       "      <th>DATE OCC</th>\n",
       "      <th>TIME OCC</th>\n",
       "      <th>AREA</th>\n",
       "      <th>AREA NAME</th>\n",
       "      <th>RD</th>\n",
       "      <th>Crm Cd</th>\n",
       "      <th>Crm Cd Desc</th>\n",
       "      <th>Status</th>\n",
       "      <th>Status Desc</th>\n",
       "      <th>LOCATION</th>\n",
       "      <th>Cross Street</th>\n",
       "      <th>Location 1</th>\n",
       "    </tr>\n",
       "  </thead>\n",
       "  <tbody>\n",
       "    <tr>\n",
       "      <th>0</th>\n",
       "      <td>12/02/2015 12:00:00 AM</td>\n",
       "      <td>150126705</td>\n",
       "      <td>12/02/2015 12:00:00 AM</td>\n",
       "      <td>150</td>\n",
       "      <td>1</td>\n",
       "      <td>Central</td>\n",
       "      <td>145</td>\n",
       "      <td>946</td>\n",
       "      <td>OTHER MISCELLANEOUS CRIME</td>\n",
       "      <td>IC</td>\n",
       "      <td>Invest Cont</td>\n",
       "      <td>400 S  LOS ANGELES                  ST</td>\n",
       "      <td>NaN</td>\n",
       "      <td>(34.0473, -118.2462)</td>\n",
       "    </tr>\n",
       "    <tr>\n",
       "      <th>1</th>\n",
       "      <td>12/02/2015 12:00:00 AM</td>\n",
       "      <td>150126706</td>\n",
       "      <td>12/02/2015 12:00:00 AM</td>\n",
       "      <td>220</td>\n",
       "      <td>1</td>\n",
       "      <td>Central</td>\n",
       "      <td>145</td>\n",
       "      <td>330</td>\n",
       "      <td>BURGLARY FROM VEHICLE</td>\n",
       "      <td>IC</td>\n",
       "      <td>Invest Cont</td>\n",
       "      <td>LOS ANGELES</td>\n",
       "      <td>WINSTON</td>\n",
       "      <td>(34.0467, -118.2470)</td>\n",
       "    </tr>\n",
       "    <tr>\n",
       "      <th>2</th>\n",
       "      <td>12/02/2015 12:00:00 AM</td>\n",
       "      <td>150126763</td>\n",
       "      <td>12/02/2015 12:00:00 AM</td>\n",
       "      <td>1110</td>\n",
       "      <td>1</td>\n",
       "      <td>Central</td>\n",
       "      <td>162</td>\n",
       "      <td>442</td>\n",
       "      <td>SHOPLIFTING - PETTY THEFT ($950 &amp; UNDER)</td>\n",
       "      <td>IC</td>\n",
       "      <td>Invest Cont</td>\n",
       "      <td>700 W  7TH                          ST</td>\n",
       "      <td>NaN</td>\n",
       "      <td>(34.0480, -118.2577)</td>\n",
       "    </tr>\n",
       "    <tr>\n",
       "      <th>3</th>\n",
       "      <td>12/02/2015 12:00:00 AM</td>\n",
       "      <td>150126766</td>\n",
       "      <td>12/02/2015 12:00:00 AM</td>\n",
       "      <td>1600</td>\n",
       "      <td>1</td>\n",
       "      <td>Central</td>\n",
       "      <td>174</td>\n",
       "      <td>442</td>\n",
       "      <td>SHOPLIFTING - PETTY THEFT ($950 &amp; UNDER)</td>\n",
       "      <td>IC</td>\n",
       "      <td>Invest Cont</td>\n",
       "      <td>100 E  9TH                          ST</td>\n",
       "      <td>NaN</td>\n",
       "      <td>(34.0416, -118.2550)</td>\n",
       "    </tr>\n",
       "    <tr>\n",
       "      <th>4</th>\n",
       "      <td>12/02/2015 12:00:00 AM</td>\n",
       "      <td>150126772</td>\n",
       "      <td>12/02/2015 12:00:00 AM</td>\n",
       "      <td>1605</td>\n",
       "      <td>1</td>\n",
       "      <td>Central</td>\n",
       "      <td>111</td>\n",
       "      <td>626</td>\n",
       "      <td>SPOUSAL(COHAB) ABUSE - SIMPLE ASSAULT</td>\n",
       "      <td>IC</td>\n",
       "      <td>Invest Cont</td>\n",
       "      <td>800 N  BUNKER HILL                  AV</td>\n",
       "      <td>NaN</td>\n",
       "      <td>(34.0637, -118.2440)</td>\n",
       "    </tr>\n",
       "  </tbody>\n",
       "</table>\n",
       "</div>"
      ],
      "text/plain": [
       "                Date Rptd     DR. NO                DATE OCC  TIME OCC  AREA  \\\n",
       "0  12/02/2015 12:00:00 AM  150126705  12/02/2015 12:00:00 AM       150     1   \n",
       "1  12/02/2015 12:00:00 AM  150126706  12/02/2015 12:00:00 AM       220     1   \n",
       "2  12/02/2015 12:00:00 AM  150126763  12/02/2015 12:00:00 AM      1110     1   \n",
       "3  12/02/2015 12:00:00 AM  150126766  12/02/2015 12:00:00 AM      1600     1   \n",
       "4  12/02/2015 12:00:00 AM  150126772  12/02/2015 12:00:00 AM      1605     1   \n",
       "\n",
       "  AREA NAME   RD  Crm Cd                               Crm Cd Desc Status  \\\n",
       "0   Central  145     946                 OTHER MISCELLANEOUS CRIME     IC   \n",
       "1   Central  145     330                     BURGLARY FROM VEHICLE     IC   \n",
       "2   Central  162     442  SHOPLIFTING - PETTY THEFT ($950 & UNDER)     IC   \n",
       "3   Central  174     442  SHOPLIFTING - PETTY THEFT ($950 & UNDER)     IC   \n",
       "4   Central  111     626     SPOUSAL(COHAB) ABUSE - SIMPLE ASSAULT     IC   \n",
       "\n",
       "   Status Desc                                  LOCATION Cross Street  \\\n",
       "0  Invest Cont    400 S  LOS ANGELES                  ST          NaN   \n",
       "1  Invest Cont                               LOS ANGELES      WINSTON   \n",
       "2  Invest Cont    700 W  7TH                          ST          NaN   \n",
       "3  Invest Cont    100 E  9TH                          ST          NaN   \n",
       "4  Invest Cont    800 N  BUNKER HILL                  AV          NaN   \n",
       "\n",
       "             Location 1  \n",
       "0  (34.0473, -118.2462)  \n",
       "1  (34.0467, -118.2470)  \n",
       "2  (34.0480, -118.2577)  \n",
       "3  (34.0416, -118.2550)  \n",
       "4  (34.0637, -118.2440)  "
      ]
     },
     "execution_count": 3,
     "metadata": {},
     "output_type": "execute_result"
    }
   ],
   "source": [
    "Crime.head()"
   ]
  },
  {
   "cell_type": "markdown",
   "metadata": {},
   "source": [
    "The Call dataset will only be used to show the number of calls for services in each reporting district"
   ]
  },
  {
   "cell_type": "code",
   "execution_count": 4,
   "metadata": {
    "collapsed": false
   },
   "outputs": [
    {
     "data": {
      "text/html": [
       "<div>\n",
       "<table border=\"1\" class=\"dataframe\">\n",
       "  <thead>\n",
       "    <tr style=\"text-align: right;\">\n",
       "      <th></th>\n",
       "      <th>Incident_Number</th>\n",
       "      <th>Area_Occ</th>\n",
       "      <th>Rpt_Dist</th>\n",
       "      <th>Dispatch_Date</th>\n",
       "      <th>Dispatch_Time</th>\n",
       "      <th>Call_Type_Code</th>\n",
       "      <th>Call_Type_Text</th>\n",
       "    </tr>\n",
       "  </thead>\n",
       "  <tbody>\n",
       "    <tr>\n",
       "      <th>0</th>\n",
       "      <td>151231005543</td>\n",
       "      <td>Van Nuys</td>\n",
       "      <td>904</td>\n",
       "      <td>12/31/2015</td>\n",
       "      <td>23:59:22</td>\n",
       "      <td>006</td>\n",
       "      <td>CODE 6</td>\n",
       "    </tr>\n",
       "    <tr>\n",
       "      <th>1</th>\n",
       "      <td>151231005531</td>\n",
       "      <td>Van Nuys</td>\n",
       "      <td>966</td>\n",
       "      <td>12/31/2015</td>\n",
       "      <td>23:58:54</td>\n",
       "      <td>507P</td>\n",
       "      <td>PARTY</td>\n",
       "    </tr>\n",
       "    <tr>\n",
       "      <th>2</th>\n",
       "      <td>151231005537</td>\n",
       "      <td>Wilshire</td>\n",
       "      <td>777</td>\n",
       "      <td>12/31/2015</td>\n",
       "      <td>23:58:52</td>\n",
       "      <td>246H</td>\n",
       "      <td>HEARD ONLY</td>\n",
       "    </tr>\n",
       "    <tr>\n",
       "      <th>3</th>\n",
       "      <td>151231005532</td>\n",
       "      <td>77th Street</td>\n",
       "      <td>1255</td>\n",
       "      <td>12/31/2015</td>\n",
       "      <td>23:58:49</td>\n",
       "      <td>904A</td>\n",
       "      <td>AMB</td>\n",
       "    </tr>\n",
       "    <tr>\n",
       "      <th>4</th>\n",
       "      <td>151231005534</td>\n",
       "      <td>Rampart</td>\n",
       "      <td>216</td>\n",
       "      <td>12/31/2015</td>\n",
       "      <td>23:58:46</td>\n",
       "      <td>459P1S</td>\n",
       "      <td>POSS BFV SUSP</td>\n",
       "    </tr>\n",
       "  </tbody>\n",
       "</table>\n",
       "</div>"
      ],
      "text/plain": [
       "   Incident_Number     Area_Occ  Rpt_Dist Dispatch_Date Dispatch_Time  \\\n",
       "0     151231005543     Van Nuys       904    12/31/2015      23:59:22   \n",
       "1     151231005531     Van Nuys       966    12/31/2015      23:58:54   \n",
       "2     151231005537     Wilshire       777    12/31/2015      23:58:52   \n",
       "3     151231005532  77th Street      1255    12/31/2015      23:58:49   \n",
       "4     151231005534      Rampart       216    12/31/2015      23:58:46   \n",
       "\n",
       "  Call_Type_Code Call_Type_Text  \n",
       "0            006         CODE 6  \n",
       "1           507P          PARTY  \n",
       "2           246H     HEARD ONLY  \n",
       "3           904A            AMB  \n",
       "4         459P1S  POSS BFV SUSP  "
      ]
     },
     "execution_count": 4,
     "metadata": {},
     "output_type": "execute_result"
    }
   ],
   "source": [
    "Call.head()"
   ]
  },
  {
   "cell_type": "markdown",
   "metadata": {},
   "source": [
    "We can then see some interesting facts in the datasets:\n",
    "* Each dataset has a reporting district column(RD), it is named Rpt_Dist in the Call dataset\n",
    "* The only way to connect the datasets is using reporting district\n",
    "* There are a total of 1135 reporting districts and they can take number between 101 and 2199"
   ]
  },
  {
   "cell_type": "markdown",
   "metadata": {},
   "source": [
    "# Cleaning the datasets\n",
    "Some of the entries in the dataset has RD that is not between 101 and 2199, they need to be removed."
   ]
  },
  {
   "cell_type": "code",
   "execution_count": 5,
   "metadata": {
    "collapsed": true
   },
   "outputs": [],
   "source": [
    "Arrest = Arrest[(Arrest['RD'] >= 101) & (Arrest['RD'] <= 2199)]"
   ]
  },
  {
   "cell_type": "markdown",
   "metadata": {},
   "source": [
    "According to Shouse California Law Group, minors under 18 generally go to juvenile court. But for certain crimes minors 14 and up must be tried as adults, so the analysis will include only those who are 14 or older. Removing these entries will not be problematic since they represent less than 1% of the entire dataset."
   ]
  },
  {
   "cell_type": "code",
   "execution_count": 6,
   "metadata": {
    "collapsed": false
   },
   "outputs": [
    {
     "data": {
      "text/plain": [
       "0.009973037322022675"
      ]
     },
     "execution_count": 6,
     "metadata": {},
     "output_type": "execute_result"
    }
   ],
   "source": [
    "len(Arrest[Arrest['AGE'] < 14])/len(Arrest)"
   ]
  },
  {
   "cell_type": "markdown",
   "metadata": {},
   "source": [
    "To deal with null entries in AGE column it would be sufficient to replace them with average age of that specific area, given that there are not that many null entries. Predictive algorithms such as linear regression and random forest can also be used to fill the null entries."
   ]
  },
  {
   "cell_type": "code",
   "execution_count": 7,
   "metadata": {
    "collapsed": false
   },
   "outputs": [],
   "source": [
    "Arrest = Arrest[Arrest['AGE'] >= 14]"
   ]
  },
  {
   "cell_type": "markdown",
   "metadata": {},
   "source": [
    "Now we use the head method on the Arrest dataset again, we can see that the index of the dataframe is different. Reset the index to avoid confusion later"
   ]
  },
  {
   "cell_type": "code",
   "execution_count": 8,
   "metadata": {
    "collapsed": true
   },
   "outputs": [],
   "source": [
    "Index = range(0, len(Arrest), 1)\n",
    "Arrest.set_index(np.asarray(Index), inplace = True)"
   ]
  },
  {
   "cell_type": "code",
   "execution_count": 9,
   "metadata": {
    "collapsed": true
   },
   "outputs": [],
   "source": [
    "#Time to hour\n",
    "np.unique(Arrest['TIME'].isnull(), return_counts = True)\n",
    "Arrest['TIME'] = Arrest['TIME'].fillna(Arrest['TIME'].mean())\n",
    "Arrest['TIME'] = Arrest['TIME']/100\n",
    "Arrest['TIME'] = Arrest['TIME'].apply(np.round)\n",
    "Arrest['TIME'] = Arrest['TIME'].astype(int);"
   ]
  },
  {
   "cell_type": "code",
   "execution_count": 10,
   "metadata": {
    "collapsed": false
   },
   "outputs": [],
   "source": [
    "#Convert dates into months of year\n",
    "MonthOfYear = []\n",
    "a = Arrest['ARST DATE']\n",
    "for i in range(0, len(a)):\n",
    "    a = Arrest['ARST DATE'][i]\n",
    "    a = pd.Series(a)\n",
    "    month = a.str.split('/')[0][0]\n",
    "    MonthOfYear.append(month)\n",
    "\n",
    "MonthOfYear = np.asarray(MonthOfYear).astype(int)\n",
    "Arrest['MonthOfYear'] = MonthOfYear"
   ]
  },
  {
   "cell_type": "code",
   "execution_count": 11,
   "metadata": {
    "collapsed": false
   },
   "outputs": [],
   "source": [
    "#Convert dates into days of week\n",
    "day = pd.DataFrame(Arrest['ARST DATE'])\n",
    "day['ARST DATE'] = pd.to_datetime(day['ARST DATE'])\n",
    "day['ARST DATE'] = day['ARST DATE'].dt.dayofweek\n",
    "a = {0:'M',1:'Tu',2:'W',3:'Th',4:'F',5:'Sat',6:'Sun'}\n",
    "day['ARST DATE'] = day['ARST DATE'].apply(lambda x: a[x])\n",
    "Arrest['DayOfWeek'] = day['ARST DATE']"
   ]
  },
  {
   "cell_type": "markdown",
   "metadata": {},
   "source": [
    "The Call dataset does not have a column indicating the area, but it can be easily seen that Area = int(RD/100). So we will add a column named Area to the Call dataset"
   ]
  },
  {
   "cell_type": "code",
   "execution_count": 12,
   "metadata": {
    "collapsed": false
   },
   "outputs": [
    {
     "data": {
      "text/html": [
       "<div>\n",
       "<table border=\"1\" class=\"dataframe\">\n",
       "  <thead>\n",
       "    <tr style=\"text-align: right;\">\n",
       "      <th></th>\n",
       "      <th>Incident_Number</th>\n",
       "      <th>Area_Occ</th>\n",
       "      <th>Rpt_Dist</th>\n",
       "      <th>Dispatch_Date</th>\n",
       "      <th>Dispatch_Time</th>\n",
       "      <th>Call_Type_Code</th>\n",
       "      <th>Call_Type_Text</th>\n",
       "      <th>AREA</th>\n",
       "    </tr>\n",
       "  </thead>\n",
       "  <tbody>\n",
       "    <tr>\n",
       "      <th>0</th>\n",
       "      <td>151231005543</td>\n",
       "      <td>Van Nuys</td>\n",
       "      <td>904</td>\n",
       "      <td>12/31/2015</td>\n",
       "      <td>23:59:22</td>\n",
       "      <td>006</td>\n",
       "      <td>CODE 6</td>\n",
       "      <td>9</td>\n",
       "    </tr>\n",
       "    <tr>\n",
       "      <th>1</th>\n",
       "      <td>151231005531</td>\n",
       "      <td>Van Nuys</td>\n",
       "      <td>966</td>\n",
       "      <td>12/31/2015</td>\n",
       "      <td>23:58:54</td>\n",
       "      <td>507P</td>\n",
       "      <td>PARTY</td>\n",
       "      <td>9</td>\n",
       "    </tr>\n",
       "    <tr>\n",
       "      <th>2</th>\n",
       "      <td>151231005537</td>\n",
       "      <td>Wilshire</td>\n",
       "      <td>777</td>\n",
       "      <td>12/31/2015</td>\n",
       "      <td>23:58:52</td>\n",
       "      <td>246H</td>\n",
       "      <td>HEARD ONLY</td>\n",
       "      <td>7</td>\n",
       "    </tr>\n",
       "    <tr>\n",
       "      <th>3</th>\n",
       "      <td>151231005532</td>\n",
       "      <td>77th Street</td>\n",
       "      <td>1255</td>\n",
       "      <td>12/31/2015</td>\n",
       "      <td>23:58:49</td>\n",
       "      <td>904A</td>\n",
       "      <td>AMB</td>\n",
       "      <td>12</td>\n",
       "    </tr>\n",
       "    <tr>\n",
       "      <th>4</th>\n",
       "      <td>151231005534</td>\n",
       "      <td>Rampart</td>\n",
       "      <td>216</td>\n",
       "      <td>12/31/2015</td>\n",
       "      <td>23:58:46</td>\n",
       "      <td>459P1S</td>\n",
       "      <td>POSS BFV SUSP</td>\n",
       "      <td>2</td>\n",
       "    </tr>\n",
       "  </tbody>\n",
       "</table>\n",
       "</div>"
      ],
      "text/plain": [
       "   Incident_Number     Area_Occ  Rpt_Dist Dispatch_Date Dispatch_Time  \\\n",
       "0     151231005543     Van Nuys       904    12/31/2015      23:59:22   \n",
       "1     151231005531     Van Nuys       966    12/31/2015      23:58:54   \n",
       "2     151231005537     Wilshire       777    12/31/2015      23:58:52   \n",
       "3     151231005532  77th Street      1255    12/31/2015      23:58:49   \n",
       "4     151231005534      Rampart       216    12/31/2015      23:58:46   \n",
       "\n",
       "  Call_Type_Code Call_Type_Text  AREA  \n",
       "0            006         CODE 6     9  \n",
       "1           507P          PARTY     9  \n",
       "2           246H     HEARD ONLY     7  \n",
       "3           904A            AMB    12  \n",
       "4         459P1S  POSS BFV SUSP     2  "
      ]
     },
     "execution_count": 12,
     "metadata": {},
     "output_type": "execute_result"
    }
   ],
   "source": [
    "Call_RD = Call['Rpt_Dist']\n",
    "Call_Area = []\n",
    "\n",
    "for i in range(0, len(Call_RD)):\n",
    "    a = int(Call_RD[i]/100)\n",
    "    Call_Area.append(a)\n",
    "    \n",
    "Call['AREA'] = Call_Area\n",
    "Call.head()"
   ]
  },
  {
   "cell_type": "markdown",
   "metadata": {},
   "source": [
    "More data cleaning will be shown later when we deal with crime types, gender, ethinicity, and time"
   ]
  },
  {
   "cell_type": "markdown",
   "metadata": {},
   "source": [
    "# Exploratory Analysis\n",
    "### Age vs Crime\n",
    "The describe() function will be used on 'AGE' column to obtain summary statistics. The average age of the entire dataset is 34.854735, median is 32, and standard deviation is 13.318581. From the quantitle information it can be concluded that half of the crimes are committed by people who are between 24 and 45 years old."
   ]
  },
  {
   "cell_type": "code",
   "execution_count": 13,
   "metadata": {
    "collapsed": false
   },
   "outputs": [
    {
     "data": {
      "text/plain": [
       "count    125577.000000\n",
       "mean         34.854735\n",
       "std          13.318581\n",
       "min          14.000000\n",
       "25%          24.000000\n",
       "50%          32.000000\n",
       "75%          45.000000\n",
       "max          96.000000\n",
       "Name: AGE, dtype: float64"
      ]
     },
     "execution_count": 13,
     "metadata": {},
     "output_type": "execute_result"
    }
   ],
   "source": [
    "Arrest['AGE'].describe()"
   ]
  },
  {
   "cell_type": "markdown",
   "metadata": {},
   "source": [
    "With the above information, we can compute the coefficient of variation(CV)."
   ]
  },
  {
   "cell_type": "code",
   "execution_count": 14,
   "metadata": {
    "collapsed": false
   },
   "outputs": [
    {
     "data": {
      "text/plain": [
       "0.38211685267492923"
      ]
     },
     "execution_count": 14,
     "metadata": {},
     "output_type": "execute_result"
    }
   ],
   "source": [
    "Arrest['AGE'].std()/Arrest['AGE'].mean()"
   ]
  },
  {
   "cell_type": "markdown",
   "metadata": {},
   "source": [
    "We get approximately 0.382 as result, which indicates relatively low variation in the age data."
   ]
  },
  {
   "cell_type": "markdown",
   "metadata": {},
   "source": [
    "Since the age data is obviously a set of continuous data, we can plot a histogram to see the underlying frequency distribution. One thing to note is that the data appear to be right-skewed and have a unimodal distribution, where the data increase to reach a single peak then start decreasing."
   ]
  },
  {
   "cell_type": "code",
   "execution_count": 15,
   "metadata": {
    "collapsed": false
   },
   "outputs": [
    {
     "data": {
      "image/png": "[encoded data removed]",
      "text/plain": [
       "<matplotlib.figure.Figure at 0xd138400>"
      ]
     },
     "metadata": {},
     "output_type": "display_data"
    }
   ],
   "source": [
    "plt.hist(Arrest['AGE'], bins = 82)\n",
    "plt.title('Histogram of Age')\n",
    "plt.xlabel('Age')\n",
    "plt.ylabel('Arrests')\n",
    "plt.axis([14,96,0,6000])\n",
    "plt.grid(True)\n",
    "plt.show()"
   ]
  },
  {
   "cell_type": "markdown",
   "metadata": {},
   "source": [
    "We can then take a look at the average crime age of each area, we see that Area 1 have the highest age among all areas."
   ]
  },
  {
   "cell_type": "code",
   "execution_count": 16,
   "metadata": {
    "collapsed": false
   },
   "outputs": [
    {
     "data": {
      "image/png": "[encoded data removed]",
      "text/plain": [
       "<matplotlib.figure.Figure at 0xbab7400>"
      ]
     },
     "metadata": {},
     "output_type": "display_data"
    }
   ],
   "source": [
    "AvgAge_21 = []\n",
    "AvgAge_21.append(0)\n",
    "for i in range(1,22):\n",
    "    a = Arrest[Arrest['AREA'] == i]\n",
    "    avg = a['AGE'].mean()\n",
    "    AvgAge_21.append(avg)\n",
    "    \n",
    "plt.title('Average Age In Each Area')\n",
    "plt.plot(np.asarray(AvgAge_21), '-o')\n",
    "plt.xlabel('Area')\n",
    "plt.ylabel('Average Age')\n",
    "plt.axis([1,21,30,50])\n",
    "plt.grid(True)\n",
    "plt.show()"
   ]
  },
  {
   "cell_type": "markdown",
   "metadata": {},
   "source": [
    "## Five Categories of Crimes\n",
    "The criminal systems in most states divide their crimes into several categories, usually depending on how serious the crimes are. This categorization allows the court to determine how to treat each particular case. In this dataset, there are 5 main categories that a crime can be placed in and the categoization of each arrest is shown in the 'ARST_TYP_CD' column. \n",
    "\n",
    "The 5 categories are defeind as the following:"
   ]
  },
  {
   "cell_type": "markdown",
   "metadata": {},
   "source": [
    "| Letter        | Category      | \n",
    "| ------------- |:-------------:|\n",
    "| D             | Detention     |\n",
    "| F             | Felony        | \n",
    "| I             | Illegal       |\n",
    "| M             | Misdemeanor   |\n",
    "| O             | Other         |"
   ]
  },
  {
   "cell_type": "markdown",
   "metadata": {},
   "source": [
    "The bar chart below provides an overview on the counts of each type of crime. Most of the crimes are either felony or misdemeanor, which are considered to be much more serious. Detention essentially means non-criminal detentions and that is why the number of counts is barely visible on the graph."
   ]
  },
  {
   "cell_type": "code",
   "execution_count": 17,
   "metadata": {
    "collapsed": false
   },
   "outputs": [
    {
     "data": {
      "image/png": "[encoded data removed]",
      "text/plain": [
       "<matplotlib.figure.Figure at 0xd138438>"
      ]
     },
     "metadata": {},
     "output_type": "display_data"
    }
   ],
   "source": [
    "a = np.unique(Arrest['ARST_TYP_CD'], return_counts = True)\n",
    "N = 5\n",
    "index = np.arange(N)\n",
    "plt.bar(index, a[1], 0.35)\n",
    "plt.title('Number of crimes in each Category')\n",
    "plt.xlabel('Category')\n",
    "plt.ylabel('Counts')\n",
    "plt.xticks(index + 0.2, a[0])\n",
    "plt.show()"
   ]
  },
  {
   "cell_type": "markdown",
   "metadata": {},
   "source": [
    "## Types of Crime\n",
    "Each crime is assigned a charge code(CHRG_GRP_CD) ranging from 1 to 27 with a category and descrption. This part of analysis will not include entries that do not have a charge code, and the calculation below shows that about 11.4% of arrests were made without specific charge code."
   ]
  },
  {
   "cell_type": "code",
   "execution_count": 18,
   "metadata": {
    "collapsed": false
   },
   "outputs": [
    {
     "data": {
      "text/plain": [
       "0.11399221127147888"
      ]
     },
     "execution_count": 18,
     "metadata": {},
     "output_type": "execute_result"
    }
   ],
   "source": [
    "a = np.unique(Arrest['CHRG_GRP_CD'].isnull(), return_counts = True)\n",
    "a[1][1] / a[1][0]"
   ]
  },
  {
   "cell_type": "markdown",
   "metadata": {},
   "source": [
    "There are also a few entires with charge code 29 and no description. In this part of analysis, a new dataframe will be created containing only the data with legit charge code and description."
   ]
  },
  {
   "cell_type": "code",
   "execution_count": 19,
   "metadata": {
    "collapsed": false
   },
   "outputs": [],
   "source": [
    "Arrest_Crimetyp = Arrest[Arrest['CHRG_GRP_CD'].isin(range(1,27))]\n",
    "Index = range(0, len(Arrest_Crimetyp), 1)\n",
    "Arrest_Crimetyp.set_index(np.asarray(Index), inplace = True)"
   ]
  },
  {
   "cell_type": "code",
   "execution_count": 54,
   "metadata": {
    "collapsed": false
   },
   "outputs": [
    {
     "name": "stdout",
     "output_type": "stream",
     "text": [
      "High five! You successfuly sent some data to your account on plotly. View your plot in your browser at https://plot.ly/~ayl019/0 or inside your plot.ly account where it is named 'simple_table'\n"
     ]
    },
    {
     "data": {
      "text/html": [
       "<iframe id=\"igraph\" scrolling=\"no\" style=\"border:none;\" seamless=\"seamless\" src=\"https://plot.ly/~ayl019/0.embed\" height=\"260px\" width=\"100%\"></iframe>"
      ],
      "text/plain": [
       "<plotly.tools.PlotlyDisplay object>"
      ]
     },
     "execution_count": 54,
     "metadata": {},
     "output_type": "execute_result"
    }
   ],
   "source": [
    "import plotly.plotly as py\n",
    "from plotly.tools import FigureFactory as FF \n",
    "\n",
    "data_matrix = [['Country', 'Year', 'Population'],\n",
    "               ['United States', 2000, 282200000],\n",
    "               ['Canada', 2000, 27790000],\n",
    "               ['United States', 2005, 295500000],\n",
    "               ['Canada', 2005, 32310000],\n",
    "               ['United States', 2010, 309000000],\n",
    "               ['Canada', 2010, 34000000]]\n",
    "\n",
    "table = FF.create_table(data_matrix)\n",
    "py.iplot(table, filename='simple_table')"
   ]
  },
  {
   "cell_type": "code",
   "execution_count": 20,
   "metadata": {
    "collapsed": false
   },
   "outputs": [
    {
     "data": {
      "text/plain": [
       "array([  1.,   2.,   3.,   4.,   5.,   6.,   7.,   8.,   9.,  10.,  11.,\n",
       "        12.,  13.,  14.,  15.,  16.,  17.,  18.,  19.,  20.,  21.,  22.,\n",
       "        23.,  24.,  25.,  26.])"
      ]
     },
     "execution_count": 20,
     "metadata": {},
     "output_type": "execute_result"
    }
   ],
   "source": [
    "np.unique(Arrest_Crimetyp['CHRG_GRP_CD'])"
   ]
  },
  {
   "cell_type": "code",
   "execution_count": 21,
   "metadata": {
    "collapsed": false
   },
   "outputs": [],
   "source": [
    "Race = ['C', 'F', 'G', 'I', 'J', 'K', 'P', 'S', 'V', 'X', 'Z']\n",
    "for i in range(0, len(Arrest)):\n",
    "    if Arrest['DESCENT_CD'][i] in Race:\n",
    "        Arrest.iloc[i, Arrest.columns.get_loc('DESCENT_CD')] = \"O\""
   ]
  },
  {
   "cell_type": "code",
   "execution_count": 22,
   "metadata": {
    "collapsed": false
   },
   "outputs": [],
   "source": [
    "#Arrests by hour\n",
    "#Arrest.groupby(by = 'TIME')['RPT_ID'].nunique()"
   ]
  },
  {
   "cell_type": "code",
   "execution_count": 23,
   "metadata": {
    "collapsed": false,
    "hideCode": false,
    "hideOutput": false,
    "hidePrompt": false,
    "hide_input": true,
    "slideshow": {
     "slide_type": "skip"
    }
   },
   "outputs": [],
   "source": [
    "a = Arrest.pivot_table(index = \"CHRG_GRP_CD\", columns = \"GRP_DESC\", aggfunc=len, values = \"RPT_ID\" )"
   ]
  },
  {
   "cell_type": "code",
   "execution_count": 24,
   "metadata": {
    "collapsed": false
   },
   "outputs": [],
   "source": [
    "#Calcualte average age of each RD\n",
    "ReptDist = np.unique(Arrest['RD'])\n",
    "AvgAge = []\n",
    "\n",
    "for i in range(0, len(ReptDist)):\n",
    "    RD_age = Arrest[Arrest['RD'] == ReptDist[i]]['AGE']\n",
    "    a = sum(RD_age) / len(RD_age)\n",
    "    AvgAge.append(a)\n",
    "\n",
    "AvgAge = np.asarray(AvgAge)"
   ]
  },
  {
   "cell_type": "code",
   "execution_count": 25,
   "metadata": {
    "collapsed": true
   },
   "outputs": [],
   "source": [
    "#Declare columns names for the completed dataframe\n",
    "Columns_1 = ['Area', 'ReptDist']\n",
    "Columns_2 = ['AvgAge', 'Arrests', 'CrimeRepts', 'CallForServ', 'Male', 'Female', 'White', 'Black', 'Hispanic', 'Asian',\n",
    "             'Other_rac', 'Felony', 'Detent', 'Illegal', 'Misdemeanor', 'Other_Arst']\n",
    "Columns_4 = ['PopulationEstm', 'WhiteEstm', 'BlackEstm', 'HispanicEstm', 'AsianEstm', 'OtherEstm', 'MaleEstm', 'FemaleEstm']"
   ]
  },
  {
   "cell_type": "code",
   "execution_count": 26,
   "metadata": {
    "collapsed": false
   },
   "outputs": [],
   "source": [
    "#Calculate arrests in each RD\n",
    "Arrests = Arrest.groupby(by = ['RD'])['RPT_ID'].nunique()\n",
    "Arrests = np.asarray(Arrests)"
   ]
  },
  {
   "cell_type": "code",
   "execution_count": 27,
   "metadata": {
    "collapsed": true
   },
   "outputs": [],
   "source": [
    "#Declare columns names for the completed dataframe\n",
    "Columns_1 = ['Area', 'ReptDist']\n",
    "Columns_2 = ['AvgAge', 'Arrests', 'CrimeRepts', 'CallForServ', 'Male', 'Female', 'White', 'Black', 'Hispanic', 'Asian',\n",
    "             'Other_rac', 'Felony', 'Detent', 'Illegal', 'Misdemeanor', 'Other_Arst']\n",
    "Columns_4 = ['PopulationEstm', 'WhiteEstm', 'BlackEstm', 'HispanicEstm', 'AsianEstm', 'OtherEstm', 'MaleEstm', 'FemaleEstm']"
   ]
  },
  {
   "cell_type": "code",
   "execution_count": 28,
   "metadata": {
    "collapsed": false
   },
   "outputs": [],
   "source": [
    "#DF for merge\n",
    "Crime_RD = np.unique(Crime['RD'])\n",
    "Crime_DF = pd.DataFrame(columns = ['ReptDist', 'Reports'])\n",
    "Reports = Crime.groupby(by = 'RD')['DR. NO'].nunique()\n",
    "Crime_DF['ReptDist']= Crime_RD\n",
    "Crime_DF['Reports'] = np.asarray(Reports)"
   ]
  },
  {
   "cell_type": "code",
   "execution_count": 29,
   "metadata": {
    "collapsed": false
   },
   "outputs": [],
   "source": [
    "#DF for merge\n",
    "Call_UniqRD = np.unique(Call['Rpt_Dist'])\n",
    "Call_DF = pd.DataFrame(columns = ['ReptDist', 'Calls'])\n",
    "Calls = Call.groupby(by = 'Rpt_Dist')['Incident_Number'].nunique()\n",
    "Call_DF['ReptDist'] = Call_UniqRD\n",
    "Call_DF['Calls'] = np.asarray(Calls)"
   ]
  },
  {
   "cell_type": "code",
   "execution_count": 30,
   "metadata": {
    "collapsed": false
   },
   "outputs": [],
   "source": [
    "Male, Female = ([] for i in range(2))\n",
    "\n",
    "for i in range(0, len(ReptDist)):\n",
    "    RD = Arrest[Arrest['RD'] == ReptDist[i]]\n",
    "    M = RD[RD['SEX_CD'] == \"M\"]\n",
    "    F = RD[RD['SEX_CD'] == \"F\"]\n",
    "    Male.append(len(M))\n",
    "    Female.append(len(F))"
   ]
  },
  {
   "cell_type": "code",
   "execution_count": 31,
   "metadata": {
    "collapsed": false
   },
   "outputs": [],
   "source": [
    "White, Black, Hispanic, Asian, Other_rac = ([] for i in range(5))\n",
    "\n",
    "for i in range(0, len(ReptDist)):\n",
    "    RD = Arrest[Arrest['RD'] == ReptDist[i]]\n",
    "    W = RD[RD['DESCENT_CD'] == \"W\"]\n",
    "    B = RD[RD['DESCENT_CD'] == \"B\"]\n",
    "    H = RD[RD['DESCENT_CD'] == \"H\"]\n",
    "    A = RD[RD['DESCENT_CD'] == \"A\"]\n",
    "    O = RD[RD['DESCENT_CD'] == \"O\"]\n",
    "    White.append(len(W))\n",
    "    Black.append(len(B))\n",
    "    Hispanic.append(len(H))\n",
    "    Asian.append(len(A))\n",
    "    Other_rac.append(len(O))\n"
   ]
  },
  {
   "cell_type": "code",
   "execution_count": 32,
   "metadata": {
    "collapsed": true
   },
   "outputs": [],
   "source": [
    "Felony, Detent, Illegal, Misdemeanor, Other_Arst = ([] for i in range(5))\n",
    "\n",
    "for i in range(0, len(ReptDist)):\n",
    "    RD = Arrest[Arrest['RD'] == ReptDist[i]]\n",
    "    F = RD[RD['ARST_TYP_CD'] == \"F\"]\n",
    "    D = RD[RD['ARST_TYP_CD'] == \"D\"]\n",
    "    I = RD[RD['ARST_TYP_CD'] == \"I\"]\n",
    "    M = RD[RD['ARST_TYP_CD'] == \"M\"]\n",
    "    OA = RD[RD['ARST_TYP_CD'] == \"O\"]\n",
    "    Felony.append(len(F))\n",
    "    Detent.append(len(D))\n",
    "    Illegal.append(len(I))\n",
    "    Misdemeanor.append(len(M))\n",
    "    Other_Arst.append(len(OA))"
   ]
  },
  {
   "cell_type": "code",
   "execution_count": 33,
   "metadata": {
    "collapsed": false
   },
   "outputs": [],
   "source": [
    "#ReptDist column for full dataset\n",
    "Area = []\n",
    "for i in range(0, len(ReptDist)):\n",
    "    a = int(ReptDist[i]/100)\n",
    "    Area.append(a)"
   ]
  },
  {
   "cell_type": "code",
   "execution_count": 34,
   "metadata": {
    "collapsed": false
   },
   "outputs": [
    {
     "data": {
      "text/html": [
       "<div>\n",
       "<table border=\"1\" class=\"dataframe\">\n",
       "  <thead>\n",
       "    <tr style=\"text-align: right;\">\n",
       "      <th></th>\n",
       "      <th>Area</th>\n",
       "      <th>ReptDist</th>\n",
       "      <th>AvgAge</th>\n",
       "      <th>Arrests</th>\n",
       "      <th>CrimeRepts</th>\n",
       "      <th>CallForServ</th>\n",
       "      <th>Male</th>\n",
       "      <th>Female</th>\n",
       "      <th>White</th>\n",
       "      <th>Black</th>\n",
       "      <th>Hispanic</th>\n",
       "      <th>Asian</th>\n",
       "      <th>Other_rac</th>\n",
       "      <th>Felony</th>\n",
       "      <th>Detent</th>\n",
       "      <th>Illegal</th>\n",
       "      <th>Misdemeanor</th>\n",
       "      <th>Other_Arst</th>\n",
       "    </tr>\n",
       "  </thead>\n",
       "  <tbody>\n",
       "    <tr>\n",
       "      <th>0</th>\n",
       "      <td>1</td>\n",
       "      <td>101</td>\n",
       "      <td>34.132530</td>\n",
       "      <td>83</td>\n",
       "      <td>167.0</td>\n",
       "      <td>700.0</td>\n",
       "      <td>63</td>\n",
       "      <td>20</td>\n",
       "      <td>14</td>\n",
       "      <td>21</td>\n",
       "      <td>43</td>\n",
       "      <td>0</td>\n",
       "      <td>5</td>\n",
       "      <td>20</td>\n",
       "      <td>0</td>\n",
       "      <td>1</td>\n",
       "      <td>58</td>\n",
       "      <td>4</td>\n",
       "    </tr>\n",
       "    <tr>\n",
       "      <th>1</th>\n",
       "      <td>1</td>\n",
       "      <td>105</td>\n",
       "      <td>37.157895</td>\n",
       "      <td>19</td>\n",
       "      <td>61.0</td>\n",
       "      <td>193.0</td>\n",
       "      <td>17</td>\n",
       "      <td>2</td>\n",
       "      <td>2</td>\n",
       "      <td>5</td>\n",
       "      <td>12</td>\n",
       "      <td>0</td>\n",
       "      <td>0</td>\n",
       "      <td>5</td>\n",
       "      <td>0</td>\n",
       "      <td>0</td>\n",
       "      <td>11</td>\n",
       "      <td>3</td>\n",
       "    </tr>\n",
       "    <tr>\n",
       "      <th>2</th>\n",
       "      <td>1</td>\n",
       "      <td>109</td>\n",
       "      <td>34.857143</td>\n",
       "      <td>7</td>\n",
       "      <td>6.0</td>\n",
       "      <td>10.0</td>\n",
       "      <td>6</td>\n",
       "      <td>1</td>\n",
       "      <td>1</td>\n",
       "      <td>2</td>\n",
       "      <td>3</td>\n",
       "      <td>0</td>\n",
       "      <td>1</td>\n",
       "      <td>0</td>\n",
       "      <td>0</td>\n",
       "      <td>0</td>\n",
       "      <td>7</td>\n",
       "      <td>0</td>\n",
       "    </tr>\n",
       "    <tr>\n",
       "      <th>3</th>\n",
       "      <td>1</td>\n",
       "      <td>111</td>\n",
       "      <td>38.574468</td>\n",
       "      <td>517</td>\n",
       "      <td>639.0</td>\n",
       "      <td>2988.0</td>\n",
       "      <td>378</td>\n",
       "      <td>139</td>\n",
       "      <td>132</td>\n",
       "      <td>83</td>\n",
       "      <td>248</td>\n",
       "      <td>4</td>\n",
       "      <td>50</td>\n",
       "      <td>80</td>\n",
       "      <td>0</td>\n",
       "      <td>4</td>\n",
       "      <td>423</td>\n",
       "      <td>10</td>\n",
       "    </tr>\n",
       "    <tr>\n",
       "      <th>4</th>\n",
       "      <td>1</td>\n",
       "      <td>112</td>\n",
       "      <td>36.444444</td>\n",
       "      <td>45</td>\n",
       "      <td>56.0</td>\n",
       "      <td>219.0</td>\n",
       "      <td>32</td>\n",
       "      <td>13</td>\n",
       "      <td>7</td>\n",
       "      <td>5</td>\n",
       "      <td>29</td>\n",
       "      <td>0</td>\n",
       "      <td>4</td>\n",
       "      <td>11</td>\n",
       "      <td>0</td>\n",
       "      <td>0</td>\n",
       "      <td>33</td>\n",
       "      <td>1</td>\n",
       "    </tr>\n",
       "  </tbody>\n",
       "</table>\n",
       "</div>"
      ],
      "text/plain": [
       "   Area  ReptDist     AvgAge  Arrests  CrimeRepts  CallForServ  Male  Female  \\\n",
       "0     1       101  34.132530       83       167.0        700.0    63      20   \n",
       "1     1       105  37.157895       19        61.0        193.0    17       2   \n",
       "2     1       109  34.857143        7         6.0         10.0     6       1   \n",
       "3     1       111  38.574468      517       639.0       2988.0   378     139   \n",
       "4     1       112  36.444444       45        56.0        219.0    32      13   \n",
       "\n",
       "   White  Black  Hispanic  Asian  Other_rac  Felony  Detent  Illegal  \\\n",
       "0     14     21        43      0          5      20       0        1   \n",
       "1      2      5        12      0          0       5       0        0   \n",
       "2      1      2         3      0          1       0       0        0   \n",
       "3    132     83       248      4         50      80       0        4   \n",
       "4      7      5        29      0          4      11       0        0   \n",
       "\n",
       "   Misdemeanor  Other_Arst  \n",
       "0           58           4  \n",
       "1           11           3  \n",
       "2            7           0  \n",
       "3          423          10  \n",
       "4           33           1  "
      ]
     },
     "execution_count": 34,
     "metadata": {},
     "output_type": "execute_result"
    }
   ],
   "source": [
    "#Dataframe by reporting districts\n",
    "full = pd.DataFrame(columns = (Columns_1 + Columns_2))\n",
    "full['Area'] = Area\n",
    "full['ReptDist'] = ReptDist\n",
    "full[\"AvgAge\"] = AvgAge\n",
    "full['Arrests'] = Arrests\n",
    "full['Male'] = Male\n",
    "full['Female'] = Female\n",
    "full['White'] = White\n",
    "full['Black'] = Black\n",
    "full['Hispanic'] = Hispanic\n",
    "full['Asian'] = Asian\n",
    "full['Other_rac'] = Other_rac\n",
    "full['Felony'] = Felony\n",
    "full['Detent'] = Detent\n",
    "full['Illegal'] = Illegal\n",
    "full['Misdemeanor'] = Misdemeanor\n",
    "full['Other_Arst'] = Other_Arst\n",
    "\n",
    "full = full.merge(Crime_DF, how = 'left', on = 'ReptDist')\n",
    "full = full.merge(Call_DF, how = 'left', on = 'ReptDist')\n",
    "full['CrimeRepts'] = full['Reports']\n",
    "full['CallForServ'] = full['Calls']\n",
    "del full['Reports']\n",
    "del full['Calls']\n",
    "full.head()"
   ]
  },
  {
   "cell_type": "code",
   "execution_count": 35,
   "metadata": {
    "collapsed": false
   },
   "outputs": [
    {
     "data": {
      "text/html": [
       "<div>\n",
       "<table border=\"1\" class=\"dataframe\">\n",
       "  <thead>\n",
       "    <tr style=\"text-align: right;\">\n",
       "      <th></th>\n",
       "      <th>Area</th>\n",
       "      <th>ReptDist</th>\n",
       "      <th>AvgAge</th>\n",
       "      <th>Arrests</th>\n",
       "      <th>CrimeRepts</th>\n",
       "      <th>CallForServ</th>\n",
       "      <th>Male</th>\n",
       "      <th>Female</th>\n",
       "      <th>White</th>\n",
       "      <th>Black</th>\n",
       "      <th>...</th>\n",
       "      <th>Misdemeanor</th>\n",
       "      <th>Other_Arst</th>\n",
       "      <th>PopulationEstm</th>\n",
       "      <th>WhiteEstm</th>\n",
       "      <th>BlackEstm</th>\n",
       "      <th>HispanicEstm</th>\n",
       "      <th>AsianEstm</th>\n",
       "      <th>OtherEstm</th>\n",
       "      <th>MaleEstm</th>\n",
       "      <th>FemaleEstm</th>\n",
       "    </tr>\n",
       "  </thead>\n",
       "  <tbody>\n",
       "    <tr>\n",
       "      <th>0</th>\n",
       "      <td>1</td>\n",
       "      <td>53</td>\n",
       "      <td>39.1457</td>\n",
       "      <td>13582</td>\n",
       "      <td>10750</td>\n",
       "      <td>44204</td>\n",
       "      <td>10665</td>\n",
       "      <td>2917</td>\n",
       "      <td>1840</td>\n",
       "      <td>7177</td>\n",
       "      <td>...</td>\n",
       "      <td>9502</td>\n",
       "      <td>860</td>\n",
       "      <td>230192</td>\n",
       "      <td>34326</td>\n",
       "      <td>46778</td>\n",
       "      <td>76851</td>\n",
       "      <td>64545</td>\n",
       "      <td>7692</td>\n",
       "      <td>114656.0</td>\n",
       "      <td>115536</td>\n",
       "    </tr>\n",
       "    <tr>\n",
       "      <th>1</th>\n",
       "      <td>2</td>\n",
       "      <td>59</td>\n",
       "      <td>32.6116</td>\n",
       "      <td>6341</td>\n",
       "      <td>9731</td>\n",
       "      <td>44597</td>\n",
       "      <td>5372</td>\n",
       "      <td>969</td>\n",
       "      <td>613</td>\n",
       "      <td>976</td>\n",
       "      <td>...</td>\n",
       "      <td>3021</td>\n",
       "      <td>113</td>\n",
       "      <td>197991</td>\n",
       "      <td>17808</td>\n",
       "      <td>6673</td>\n",
       "      <td>138211</td>\n",
       "      <td>31237</td>\n",
       "      <td>4062</td>\n",
       "      <td>98617.0</td>\n",
       "      <td>99374</td>\n",
       "    </tr>\n",
       "    <tr>\n",
       "      <th>2</th>\n",
       "      <td>3</td>\n",
       "      <td>59</td>\n",
       "      <td>35.309</td>\n",
       "      <td>6730</td>\n",
       "      <td>14733</td>\n",
       "      <td>57750</td>\n",
       "      <td>5178</td>\n",
       "      <td>1552</td>\n",
       "      <td>278</td>\n",
       "      <td>4271</td>\n",
       "      <td>...</td>\n",
       "      <td>4182</td>\n",
       "      <td>198</td>\n",
       "      <td>184562</td>\n",
       "      <td>10827</td>\n",
       "      <td>77983</td>\n",
       "      <td>81958</td>\n",
       "      <td>8895</td>\n",
       "      <td>4899</td>\n",
       "      <td>91928.0</td>\n",
       "      <td>92634</td>\n",
       "    </tr>\n",
       "    <tr>\n",
       "      <th>3</th>\n",
       "      <td>4</td>\n",
       "      <td>64</td>\n",
       "      <td>34.2311</td>\n",
       "      <td>4027</td>\n",
       "      <td>8564</td>\n",
       "      <td>38869</td>\n",
       "      <td>3412</td>\n",
       "      <td>615</td>\n",
       "      <td>203</td>\n",
       "      <td>174</td>\n",
       "      <td>...</td>\n",
       "      <td>1665</td>\n",
       "      <td>178</td>\n",
       "      <td>190777</td>\n",
       "      <td>7125</td>\n",
       "      <td>2282</td>\n",
       "      <td>161687</td>\n",
       "      <td>17943</td>\n",
       "      <td>1740</td>\n",
       "      <td>95024.0</td>\n",
       "      <td>95753</td>\n",
       "    </tr>\n",
       "    <tr>\n",
       "      <th>4</th>\n",
       "      <td>5</td>\n",
       "      <td>51</td>\n",
       "      <td>34.1509</td>\n",
       "      <td>4286</td>\n",
       "      <td>9816</td>\n",
       "      <td>42901</td>\n",
       "      <td>3305</td>\n",
       "      <td>981</td>\n",
       "      <td>842</td>\n",
       "      <td>615</td>\n",
       "      <td>...</td>\n",
       "      <td>2578</td>\n",
       "      <td>162</td>\n",
       "      <td>187545</td>\n",
       "      <td>50520</td>\n",
       "      <td>12873</td>\n",
       "      <td>106042</td>\n",
       "      <td>12632</td>\n",
       "      <td>5478</td>\n",
       "      <td>93414.0</td>\n",
       "      <td>94131</td>\n",
       "    </tr>\n",
       "  </tbody>\n",
       "</table>\n",
       "<p>5 rows × 26 columns</p>\n",
       "</div>"
      ],
      "text/plain": [
       "   Area ReptDist   AvgAge Arrests CrimeRepts CallForServ   Male Female White  \\\n",
       "0     1       53  39.1457   13582      10750       44204  10665   2917  1840   \n",
       "1     2       59  32.6116    6341       9731       44597   5372    969   613   \n",
       "2     3       59   35.309    6730      14733       57750   5178   1552   278   \n",
       "3     4       64  34.2311    4027       8564       38869   3412    615   203   \n",
       "4     5       51  34.1509    4286       9816       42901   3305    981   842   \n",
       "\n",
       "  Black    ...     Misdemeanor Other_Arst PopulationEstm WhiteEstm BlackEstm  \\\n",
       "0  7177    ...            9502        860         230192     34326     46778   \n",
       "1   976    ...            3021        113         197991     17808      6673   \n",
       "2  4271    ...            4182        198         184562     10827     77983   \n",
       "3   174    ...            1665        178         190777      7125      2282   \n",
       "4   615    ...            2578        162         187545     50520     12873   \n",
       "\n",
       "  HispanicEstm AsianEstm OtherEstm  MaleEstm FemaleEstm  \n",
       "0        76851     64545      7692  114656.0     115536  \n",
       "1       138211     31237      4062   98617.0      99374  \n",
       "2        81958      8895      4899   91928.0      92634  \n",
       "3       161687     17943      1740   95024.0      95753  \n",
       "4       106042     12632      5478   93414.0      94131  \n",
       "\n",
       "[5 rows x 26 columns]"
      ]
     },
     "execution_count": 35,
     "metadata": {},
     "output_type": "execute_result"
    }
   ],
   "source": [
    "#Data of 21 Areas\n",
    "Demographic = data['LAPD_Demographic']\n",
    "Male_ratio = 1889064/3792621\n",
    "Female_ratio = 1 - Male_ratio\n",
    "Columns_3 = ['PopulationEstm', 'WhiteEstm', 'BlackEstm', 'HispanicEstm', 'AsianEstm', 'OtherEstm', 'MaleEstm', 'FemaleEstm']\n",
    "full_Area = pd.DataFrame(columns = (Columns_1 + Columns_2 + Columns_3))\n",
    "Area_21 = list(range(1,22))\n",
    "full_Area['Area'] = Area_21\n",
    "a = b = d = []\n",
    "\n",
    "for i in range(1, 22):\n",
    "    a = full[full['Area'] == i]\n",
    "    d = Demographic[Demographic['Area'] == i]\n",
    "    full_Area.iloc[(i-1), full_Area.columns.get_loc('ReptDist')] = len(a)\n",
    "    for f in Columns_2:\n",
    "        if f == \"AvgAge\":\n",
    "            b = a[f].mean()\n",
    "            full_Area.iloc[(i-1), full_Area.columns.get_loc(f)] = b\n",
    "        else:\n",
    "            b = a[f].sum(skipna = True)\n",
    "            full_Area.iloc[(i-1), full_Area.columns.get_loc(f)] = b\n",
    "    for g in Columns_3:\n",
    "        if (g != \"MaleEstm\") & (g != \"FemaleEstm\"):\n",
    "            b = d[g].mean()\n",
    "            full_Area.iloc[(i-1), full_Area.columns.get_loc(g)] = b\n",
    "            \n",
    "full_Area['MaleEstm'] = (full_Area['PopulationEstm'] * Male_ratio).apply(np.round)\n",
    "full_Area['FemaleEstm'] = full_Area['PopulationEstm'] - full_Area['MaleEstm']\n",
    "full_Area.head()"
   ]
  },
  {
   "cell_type": "code",
   "execution_count": 36,
   "metadata": {
    "collapsed": false,
    "scrolled": true
   },
   "outputs": [
    {
     "data": {
      "image/png": "[encoded data removed]",
      "text/plain": [
       "<matplotlib.figure.Figure at 0xc4083c8>"
      ]
     },
     "metadata": {},
     "output_type": "display_data"
    }
   ],
   "source": [
    "xaxis = 21\n",
    "bar_width = 0.3\n",
    "index = np.arange(xaxis)\n",
    "plt.bar(index, full_Area['Arrests'])\n",
    "plt.title('Arrests in Each LAPD Area')\n",
    "plt.xlabel('Area')\n",
    "plt.ylabel('Arrests')\n",
    "plt.axis([0,21,0,15000])\n",
    "plt.grid(True)\n",
    "plt.xticks(index + bar_width, range(1,22))\n",
    "plt.show()"
   ]
  },
  {
   "cell_type": "code",
   "execution_count": 37,
   "metadata": {
    "collapsed": false
   },
   "outputs": [
    {
     "data": {
      "image/png": "[encoded data removed]",
      "text/plain": [
       "<matplotlib.figure.Figure at 0xd1b2f28>"
      ]
     },
     "metadata": {},
     "output_type": "display_data"
    }
   ],
   "source": [
    "plt.bar(index, full_Area['Arrests'], bar_width, label = \"Arrest\")\n",
    "plt.bar(index+bar_width, full_Area['CrimeRepts'], bar_width, color = 'r', label = \"Crime report\")\n",
    "plt.bar(index+bar_width*2, full_Area['CallForServ'], bar_width, color = 'g', label = \"Call for service\")\n",
    "plt.title('Incidents in Each LAPD Area')\n",
    "plt.xlabel('Area')\n",
    "plt.ylabel('Incidents')\n",
    "plt.axis([0,21,0,70000])\n",
    "plt.grid(True)\n",
    "plt.xticks(index + bar_width+0.1, range(1,22))\n",
    "plt.legend()\n",
    "plt.tight_layout()\n",
    "plt.show()"
   ]
  },
  {
   "cell_type": "code",
   "execution_count": 38,
   "metadata": {
    "collapsed": false
   },
   "outputs": [
    {
     "data": {
      "image/png": "[encoded data removed]",
      "text/plain": [
       "<matplotlib.figure.Figure at 0xd1542e8>"
      ]
     },
     "metadata": {},
     "output_type": "display_data"
    }
   ],
   "source": [
    "fig = plt.figure()\n",
    "ax = fig.add_subplot(111)\n",
    "ax.bar(np.arange(5), [sum(Felony),sum(Illegal), sum(Misdemeanor), sum(Detent), sum(Other_Arst)])\n",
    "\n",
    "ax.set_xticklabels( ('A','B','C') )\n",
    "plt.show()"
   ]
  },
  {
   "cell_type": "code",
   "execution_count": 39,
   "metadata": {
    "collapsed": false
   },
   "outputs": [
    {
     "data": {
      "text/plain": [
       "<matplotlib.axes._subplots.AxesSubplot at 0xd2d8a90>"
      ]
     },
     "execution_count": 39,
     "metadata": {},
     "output_type": "execute_result"
    },
    {
     "data": {
      "image/png": "[encoded data removed]",
      "text/plain": [
       "<matplotlib.figure.Figure at 0xb94b358>"
      ]
     },
     "metadata": {},
     "output_type": "display_data"
    }
   ],
   "source": [
    "full.plot.scatter(x='Female', y='Arrests')"
   ]
  },
  {
   "cell_type": "code",
   "execution_count": null,
   "metadata": {
    "collapsed": true
   },
   "outputs": [],
   "source": []
  }
 ],
 "metadata": {
  "anaconda-cloud": {},
  "hide_input": false,
  "kernelspec": {
   "display_name": "Python [default]",
   "language": "python",
   "name": "python3"
  },
  "language_info": {
   "codemirror_mode": {
    "name": "ipython",
    "version": 3
   },
   "file_extension": ".py",
   "mimetype": "text/x-python",
   "name": "python",
   "nbconvert_exporter": "python",
   "pygments_lexer": "ipython3",
   "version": "3.5.2"
  },
  "nikola": {
   "category": "",
   "date": "2016-12-16 17:13:40 UTC-08:00",
   "description": "",
   "link": "",
   "slug": "lapd-crime-data-analysis",
   "tags": "",
   "title": "LAPD Crime Data Analysis",
   "type": "text"
  }
 },
 "nbformat": 4,
 "nbformat_minor": 1
}
